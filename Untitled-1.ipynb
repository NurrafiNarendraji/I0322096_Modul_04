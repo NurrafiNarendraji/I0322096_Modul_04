{
 "cells": [
  {
   "cell_type": "code",
   "execution_count": 3,
   "metadata": {},
   "outputs": [
    {
     "name": "stdout",
     "output_type": "stream",
     "text": [
      "Kirim email\n",
      "Kirim email\n",
      "Kirim email\n",
      "Kirim email\n",
      "Kirim email\n",
      "Kirim email\n",
      "Kirim email\n",
      "Kirim email\n",
      "Kirim email\n",
      "Kirim email\n",
      "kirim\n",
      "kirim\n",
      "kirim\n",
      "kirim\n",
      "kirim\n",
      "kirim\n"
     ]
    }
   ],
   "source": [
    "kamus = [\"mandarin\",\"cina\",\"jawa\",\"arab\"]\n",
    "responden = 10\n",
    "surveyor = 5\n",
    "for i in range (responden):\n",
    "    print (\"Kirim email\")\n",
    "\n",
    "while surveyor <= responden:\n",
    "    print(\"kirim\")    \n",
    "    surveyor +=1"
   ]
  },
  {
   "cell_type": "code",
   "execution_count": null,
   "metadata": {},
   "outputs": [],
   "source": [
    "daftar_belanja = [\"gula\",\"garam\",\"beras\",\"kecap\",\"saus\"]\n",
    "list_hari = [\"senin\",\"selasa\",\"rabu\",\"kamis\",\"jumat\",\"sabtu\",\"minggu\"]\n"
   ]
  }
 ],
 "metadata": {
  "kernelspec": {
   "display_name": "Python 3",
   "language": "python",
   "name": "python3"
  },
  "language_info": {
   "codemirror_mode": {
    "name": "ipython",
    "version": 3
   },
   "file_extension": ".py",
   "mimetype": "text/x-python",
   "name": "python",
   "nbconvert_exporter": "python",
   "pygments_lexer": "ipython3",
   "version": "3.10.7"
  },
  "orig_nbformat": 4
 },
 "nbformat": 4,
 "nbformat_minor": 2
}
